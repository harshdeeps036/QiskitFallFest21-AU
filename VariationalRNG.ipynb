{
 "cells": [
  {
   "cell_type": "markdown",
   "metadata": {},
   "source": [
    "# The Quantum Random Number Generator"
   ]
  },
  {
   "cell_type": "code",
   "execution_count": 1,
   "id": "c41bed00",
   "metadata": {},
   "outputs": [],
   "source": [
    "# Importing standard Qiskit libraries and configuring account\n",
    "from qiskit import QuantumRegister, ClassicalRegister, execute\n",
    "from qiskit import QuantumCircuit, execute, Aer\n",
    "from qiskit.tools.jupyter import *\n",
    "import matplotlib.pyplot as plt\n",
    "import numpy as np\n",
    "from math import pi\n",
    "%matplotlib inline"
   ]
  },
  {
   "cell_type": "markdown",
   "metadata": {},
   "source": [
    "# The Mapping Function\n",
    "We define a function which takes the output of our quantum circuit and maps it into a specified range, as provided by the user."
   ]
  },
  {
   "cell_type": "code",
   "execution_count": 2,
   "id": "6c80e102",
   "metadata": {},
   "outputs": [],
   "source": [
    "def real_map(value, leftMin, leftMax, rightMin, rightMax):\n",
    "    # Maps one range to another\n",
    "    # Figure out how 'wide' each range is\n",
    "    leftSpan = leftMax - leftMin\n",
    "    rightSpan = rightMax - rightMin\n",
    "\n",
    "    # Convert the left range into a 0-1 range (float)\n",
    "    valueScaled = float(value - leftMin) / float(leftSpan)\n",
    "\n",
    "    # Convert the 0-1 range into a value in the right range.\n",
    "    return rightMin + (valueScaled * rightSpan)"
   ]
  },
  {
   "cell_type": "markdown",
   "metadata": {},
   "source": [
    "# The basic Quantum Random Number generator\n",
    "Now we define a very basic quantum random number generator, and the process of random number generation can be explained as:  \n",
    "\n",
    "* Create a quantum circuit with (at least three) a few qubits, add the classical registers.  \n",
    "\n",
    "\n",
    "* Add a hadamard gate on each of the qubits, making the final state an equal superposition of all the available states.  \n",
    "\n",
    "\n",
    "* Do a measurement with 'statevector_simulator' and find the final state of the circuit.  \n",
    "\n",
    "\n",
    "* We can have $2^n$ unique states and the final result will be a random number out of those states."
   ]
  },
  {
   "cell_type": "code",
   "execution_count": 20,
   "id": "698db012",
   "metadata": {},
   "outputs": [],
   "source": [
    "# Quantum Random Number generator\n",
    "def QRandom(a, b, qubits):\n",
    "    q = QuantumRegister(qubits, 'q')\n",
    "    circ = QuantumCircuit(q)\n",
    "    c0 = ClassicalRegister(1, 'c0')\n",
    "    circ.add_register(c0)\n",
    "\n",
    "    for i in range(qubits):\n",
    "        circ.h(q[i])\n",
    "\n",
    "    for i in range(qubits):\n",
    "        circ.measure(q[i], c0)\n",
    "\n",
    "    backend = Aer.get_backend('statevector_simulator')\n",
    "    job = execute(circ, backend)\n",
    "    result = job.result()\n",
    "    output = result.get_statevector(circ, decimals=5)\n",
    "\n",
    "    n1 = 0\n",
    "    n2 = 0\n",
    "    n3 = 0\n",
    "    for i in range( output.size ):\n",
    "        if abs(output[i]) != 0:\n",
    "            n1 = i\n",
    "            n2 = np.real(output[i])\n",
    "            n3 = np.imag(output[i])\n",
    "    \n",
    "    y = real_map(n1+n2+n3, -qubits, len(output)-1+qubits, a, b) \n",
    "    return y"
   ]
  },
  {
   "cell_type": "markdown",
   "metadata": {},
   "source": [
    "# Generating random numbers with our Quantum RNG"
   ]
  },
  {
   "cell_type": "code",
   "execution_count": 21,
   "metadata": {},
   "outputs": [
    {
     "data": {
      "text/plain": [
       "[<matplotlib.lines.Line2D at 0x7f6031151490>]"
      ]
     },
     "execution_count": 21,
     "metadata": {},
     "output_type": "execute_result"
    },
    {
     "data": {
      "image/png": "[encoded data removed]",
      "text/plain": [
       "<Figure size 432x288 with 1 Axes>"
      ]
     },
     "metadata": {
      "needs_background": "light"
     },
     "output_type": "display_data"
    }
   ],
   "source": [
    "y = []\n",
    "for i in range(20):\n",
    "    y.append(QRandom(0,100,3))\n",
    "    \n",
    "plt.plot(y)"
   ]
  },
  {
   "cell_type": "markdown",
   "metadata": {},
   "source": [
    "# The problems with this Quantum RNG:\n",
    "While this preliminary quantum RNG does look promising, it has a lot of problems inherently:  \n",
    "\n",
    "* The total number of unique random numbers it can generate is at max $2^n$, hence if one requires a large number of unique random numbers, this RNG will fail.  \n",
    "\n",
    "* The qubit requirement will be huge even for a small number of unique random numbers.  \n",
    "\n",
    "* Patterns and repititions start appearing at certain points.   \n",
    "\n",
    "* Time and memory requirements might be an issue.\n"
   ]
  },
  {
   "cell_type": "code",
   "execution_count": 22,
   "metadata": {},
   "outputs": [
    {
     "name": "stdout",
     "output_type": "stream",
     "text": [
      "The number of unique elements in provided random distribution is:\n",
      "8\n"
     ]
    }
   ],
   "source": [
    "# Example of number of unique random numbers:\n",
    "\n",
    "# Generating 40 random numbers with our QRNG\n",
    "\n",
    "y = []\n",
    "for i in range(40):\n",
    "    y.append(QRandom(0,100,3))\n",
    "\n",
    "count = 0\n",
    "\n",
    "z=[]\n",
    "\n",
    "#Counting the number of unique elements\n",
    "\n",
    "for num in y:\n",
    "    if num not in z:\n",
    "        count = count+1\n",
    "        z.append(num)\n",
    "print('The number of unique elements in provided random distribution is:')\n",
    "print(count)"
   ]
  },
  {
   "cell_type": "markdown",
   "metadata": {},
   "source": [
    "# Our Solution: A Variatonal Circuit "
   ]
  },
  {
   "cell_type": "markdown",
   "metadata": {},
   "source": [
    "To tackle the problems with this basic quantum RNG, we propose a variational quantum circuit, which can help us generate a wider range of random numbers."
   ]
  },
  {
   "cell_type": "markdown",
   "metadata": {},
   "source": [
    "The process in this variational quantum RNG can be broken down into:  \n",
    "\n",
    "* We include a couple of rotations, one along y-axis and one along x-axis, providing us a change in configuration and a change in phase, hence allowing us to create a much better range of random numbers.  \n",
    "\n",
    "* We provide a certain depth to the circuit as well, just to make sure we can provide large variations to the circuit."
   ]
  },
  {
   "cell_type": "code",
   "execution_count": 23,
   "metadata": {},
   "outputs": [],
   "source": [
    "def VarQRandom(a, b, theta, depth, qubits):\n",
    "    # Quantum Random Number generator\n",
    "    q = QuantumRegister(qubits, 'q')\n",
    "    circ = QuantumCircuit(q)\n",
    "    c0 = ClassicalRegister(2, 'c0')\n",
    "    circ.add_register(c0)\n",
    "    \n",
    "    for j in range(depth):\n",
    "        \n",
    "        for i in range(qubits):\n",
    "            circ.h(q[i])\n",
    "            circ.ry(theta, q[i])\n",
    "            circ.rx(theta, q[i])\n",
    "\n",
    "    for i in range(qubits):\n",
    "        circ.measure(q[i], c0)\n",
    "\n",
    "    backend = Aer.get_backend('statevector_simulator')\n",
    "    job = execute(circ, backend)\n",
    "    result = job.result()\n",
    "    output = result.get_statevector(circ, decimals=5)\n",
    "\n",
    "    n1 = 0\n",
    "    n2 = 0\n",
    "    n3 = 0\n",
    "    for i in range( output.size ):\n",
    "        if abs(output[i]) != 0:\n",
    "            n1 = i\n",
    "            n2 = np.real(output[i])\n",
    "            n3 = np.imag(output[i])\n",
    "    \n",
    "    y = real_map(n1+n2+n3, -qubits, len(output)-1+qubits, a, b)\n",
    "    return y"
   ]
  }
 ],
 "metadata": {
  "interpreter": {
   "hash": "916dbcbb3f70747c44a77c7bcd40155683ae19c65e1c03b4aa3499c5328201f1"
  },
  "kernelspec": {
   "display_name": "Python 3.8.10 64-bit",
   "name": "python3"
  },
  "language_info": {
   "codemirror_mode": {
    "name": "ipython",
    "version": 3
   },
   "file_extension": ".py",
   "mimetype": "text/x-python",
   "name": "python",
   "nbconvert_exporter": "python",
   "pygments_lexer": "ipython3",
   "version": "3.8.10"
  }
 },
 "nbformat": 4,
 "nbformat_minor": 5
}
