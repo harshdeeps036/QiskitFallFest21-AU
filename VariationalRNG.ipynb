{
 "cells": [
  {
   "cell_type": "code",
   "execution_count": 1,
   "id": "c41bed00",
   "metadata": {},
   "outputs": [],
   "source": [
    "%matplotlib inline\n",
    "# Importing standard Qiskit libraries and configuring account\n",
    "from qiskit import QuantumRegister, ClassicalRegister, execute\n",
    "from qiskit import QuantumCircuit, execute, Aer, IBMQ\n",
    "from qiskit.compiler import transpile, assemble\n",
    "from qiskit.tools.jupyter import *\n",
    "from qiskit.visualization import plot_state_city\n",
    "import matplotlib.pyplot as plt\n",
    "import numpy as np\n",
    "from math import pi"
   ]
  },
  {
   "cell_type": "code",
   "execution_count": 2,
   "id": "6c80e102",
   "metadata": {},
   "outputs": [],
   "source": [
    "def real_map(value, leftMin, leftMax, rightMin, rightMax):\n",
    "    # Maps one range to another\n",
    "    # Figure out how 'wide' each range is\n",
    "    leftSpan = leftMax - leftMin\n",
    "    rightSpan = rightMax - rightMin\n",
    "\n",
    "    # Convert the left range into a 0-1 range (float)\n",
    "    valueScaled = float(value - leftMin) / float(leftSpan)\n",
    "\n",
    "    # Convert the 0-1 range into a value in the right range.\n",
    "    return rightMin + (valueScaled * rightSpan)"
   ]
  },
  {
   "cell_type": "code",
   "execution_count": 68,
   "id": "698db012",
   "metadata": {},
   "outputs": [],
   "source": [
    "def QRandom1(a, b, qubits=2):\n",
    "    # Quantum Random Number generator\n",
    "    q = QuantumRegister(qubits, 'q')\n",
    "    circ = QuantumCircuit(q)\n",
    "    c0 = ClassicalRegister(2, 'c0')\n",
    "    circ.add_register(c0)\n",
    "\n",
    "    for i in range(qubits):\n",
    "        circ.h(q[i])\n",
    "\n",
    "\n",
    "    for i in range(qubits):\n",
    "        circ.measure(q[i], c0)\n",
    "\n",
    "    #display(circ.draw(output='mpl'))\n",
    "\n",
    "\n",
    "    backend = Aer.get_backend('statevector_simulator')\n",
    "    job = execute(circ, backend)\n",
    "    #print(job.status())\n",
    "    result = job.result()\n",
    "    output = result.get_statevector(circ, decimals=5)\n",
    "\n",
    "    n1 = 0\n",
    "    n2 = 0\n",
    "    n3 = 0\n",
    "    for i in range( output.size ):\n",
    "        if abs(output[i]) != 0:\n",
    "            #print(i, output[i])\n",
    "            n1 = i\n",
    "            n2 = np.real(output[i])\n",
    "            n3 = np.imag(output[i])\n",
    "    \n",
    "    y = real_map(n1+n2+n3, -qubits, len(output)-1+qubits, a, b) \n",
    "    plot_state_city(output)\n",
    "    return y"
   ]
  },
  {
   "cell_type": "code",
   "execution_count": 69,
   "id": "4314ac35",
   "metadata": {},
   "outputs": [],
   "source": [
    "def QRandom2(a, b, theta, depth, qubits=2):\n",
    "    # Quantum Random Number generator\n",
    "    q = QuantumRegister(qubits, 'q')\n",
    "    circ = QuantumCircuit(q)\n",
    "    c0 = ClassicalRegister(2, 'c0')\n",
    "    circ.add_register(c0)\n",
    "    \n",
    "    for j in range(depth):\n",
    "        \n",
    "        for i in range(qubits):\n",
    "            circ.h(q[i])\n",
    "            circ.ry(theta, q[i])\n",
    "            circ.rx(theta, q[i])\n",
    "\n",
    "    for i in range(qubits):\n",
    "        circ.measure(q[i], c0)\n",
    "\n",
    "    #circ.draw(output='mpl')\n",
    "\n",
    "\n",
    "    backend = Aer.get_backend('statevector_simulator')\n",
    "    job = execute(circ, backend)\n",
    "    #print(job.status())\n",
    "    result = job.result()\n",
    "    output = result.get_statevector(circ, decimals=5)\n",
    "\n",
    "    n1 = 0\n",
    "    n2 = 0\n",
    "    n3 = 0\n",
    "    for i in range( output.size ):\n",
    "        if abs(output[i]) != 0:\n",
    "            #print(i, output[i])\n",
    "            n1 = i\n",
    "            n2 = np.real(output[i])\n",
    "            n3 = np.imag(output[i])\n",
    "    \n",
    "    y = real_map(n1+n2+n3, -qubits, len(output)-1+qubits, a, b) \n",
    "    plot_state_city(output)\n",
    "    return y"
   ]
  },
  {
   "cell_type": "code",
   "execution_count": 61,
   "id": "17e3c087",
   "metadata": {},
   "outputs": [
    {
     "name": "stdout",
     "output_type": "stream",
     "text": [
      "Enter the number of random numbers required40\n",
      "Enter lower limit0\n",
      "Enter higher limit100\n"
     ]
    }
   ],
   "source": [
    "m=0\n",
    "length = 0\n",
    "theta = 0\n",
    "\n",
    "number = int(input('Enter the number of random numbers required'))\n",
    "low = int(input('Enter lower limit'))\n",
    "high = int(input('Enter higher limit'))\n",
    "\n",
    "depth=3\n",
    "x=[]\n",
    "n=1\n",
    "while length!=number:\n",
    "    y = QRandom(low,high,theta,depth,3)\n",
    "    while (y in x):\n",
    "        i=i+1\n",
    "        theta = theta + pi/16\n",
    "        y= QRandom(low,high,theta,depth,3)\n",
    "        if(i==(16*n)):\n",
    "            depth = depth+1\n",
    "            n=n+1\n",
    "    x.append(y)\n",
    "    length=len(x) "
   ]
  },
  {
   "cell_type": "code",
   "execution_count": 62,
   "id": "1f041fd1",
   "metadata": {},
   "outputs": [
    {
     "data": {
      "text/plain": [
       "[53.84615384615385,\n",
       " 30.76923076923077,\n",
       " 30.808384615384615,\n",
       " 38.500692307692304,\n",
       " 49.09230769230769,\n",
       " 72.16923076923077,\n",
       " 82.54815384615384,\n",
       " 53.88530769230769,\n",
       " 64.47692307692307,\n",
       " 81.04892307692307,\n",
       " 43.510076923076916,\n",
       " 17.440846153846152,\n",
       " 62.53046153846154,\n",
       " 21.555384615384614,\n",
       " 25.165692307692307,\n",
       " 29.247692307692308,\n",
       " 29.57892307692308,\n",
       " 31.446384615384616,\n",
       " 31.84592307692308,\n",
       " 38.46153846153847,\n",
       " 42.18330769230769,\n",
       " 41.095,\n",
       " 66.08161538461539,\n",
       " 69.06184615384615,\n",
       " 76.92307692307693,\n",
       " 68.65938461538461,\n",
       " 84.78430769230769,\n",
       " 87.76453846153846,\n",
       " 86.82453846153845,\n",
       " 54.33653846153847,\n",
       " 69.23076923076923,\n",
       " 84.61538461538461,\n",
       " 76.02700000000002,\n",
       " 61.69638461538462,\n",
       " 68.33469230769231,\n",
       " 48.36423076923077,\n",
       " 48.825923076923075,\n",
       " 28.387923076923077,\n",
       " 36.080230769230766,\n",
       " 43.11553846153846]"
      ]
     },
     "execution_count": 62,
     "metadata": {},
     "output_type": "execute_result"
    }
   ],
   "source": [
    "x"
   ]
  },
  {
   "cell_type": "code",
   "execution_count": 63,
   "id": "9b3e1cfe",
   "metadata": {},
   "outputs": [
    {
     "data": {
      "text/plain": [
       "[<matplotlib.lines.Line2D at 0x7f2280931640>]"
      ]
     },
     "execution_count": 63,
     "metadata": {},
     "output_type": "execute_result"
    },
    {
     "data": {
      "image/png": "[encoded data removed]",
      "text/plain": [
       "<Figure size 432x288 with 1 Axes>"
      ]
     },
     "metadata": {
      "needs_background": "light"
     },
     "output_type": "display_data"
    }
   ],
   "source": [
    "plt.plot(x)"
   ]
  },
  {
   "cell_type": "code",
   "execution_count": 66,
   "id": "8d13b441",
   "metadata": {},
   "outputs": [
    {
     "name": "stdout",
     "output_type": "stream",
     "text": [
      "Enter the number of random numbers required40\n",
      "Enter lower limit0\n",
      "Enter higher limit1\n"
     ]
    }
   ],
   "source": [
    "m=0\n",
    "number = int(input('Enter the number of random numbers required'))\n",
    "low = int(input('Enter lower limit'))\n",
    "high = int(input('Enter higher limit'))\n",
    "temp = high+1\n",
    "theta = 0\n",
    "depth=3\n",
    "x=[]\n",
    "n=1\n",
    "length = 0\n",
    "while length!=number:\n",
    "    y = QRandom(low,high,theta,depth,2)\n",
    "    while (y in x):\n",
    "        i=i+1\n",
    "        theta = theta + pi/16\n",
    "        y= QRandom(low,high,theta,depth,2)\n",
    "        if(i==(16*n)):\n",
    "            depth = depth+1\n",
    "            n=n+1\n",
    "    x.append(y)\n",
    "    length=len(x) "
   ]
  },
  {
   "cell_type": "code",
   "execution_count": 67,
   "id": "8ccbff2d",
   "metadata": {},
   "outputs": [
    {
     "data": {
      "text/plain": [
       "[0.7142857142857143,\n",
       " 0.42857142857142855,\n",
       " 0.5714285714285714,\n",
       " 0.6414942857142858,\n",
       " 0.8148685714285714,\n",
       " 0.40572,\n",
       " 0.08471857142857142,\n",
       " 0.8046842857142857,\n",
       " 0.3312171428571428,\n",
       " 0.09889999999999999,\n",
       " 0.1297542857142857,\n",
       " 0.15192571428571428,\n",
       " 0.15805285714285716,\n",
       " 0.58891,\n",
       " 0.8868885714285714,\n",
       " 0.9120157142857143,\n",
       " 0.41248,\n",
       " 0.9101857142857143,\n",
       " 0.3759557142857143,\n",
       " 0.8571428571428571,\n",
       " 0.76368,\n",
       " 0.6728185714285715,\n",
       " 0.25117,\n",
       " 0.2782857142857143,\n",
       " 0.6092885714285714,\n",
       " 0.4243571428571428,\n",
       " 0.7560585714285715,\n",
       " 0.14832428571428571,\n",
       " 0.6283057142857142,\n",
       " 0.30271571428571425,\n",
       " 0.6043485714285713,\n",
       " 0.47843142857142856,\n",
       " 0.48774428571428574,\n",
       " 0.48509714285714284,\n",
       " 0.4830685714285714,\n",
       " 0.6058228571428571,\n",
       " 0.74868,\n",
       " 0.4986371428571429,\n",
       " 0.8323442857142858,\n",
       " 0.23046571428571427]"
      ]
     },
     "execution_count": 67,
     "metadata": {},
     "output_type": "execute_result"
    }
   ],
   "source": [
    "x"
   ]
  },
  {
   "cell_type": "code",
   "execution_count": 85,
   "id": "4ad21a40",
   "metadata": {},
   "outputs": [
    {
     "data": {
      "text/plain": [
       "[<matplotlib.lines.Line2D at 0x7f224f6e54c0>]"
      ]
     },
     "execution_count": 85,
     "metadata": {},
     "output_type": "execute_result"
    },
    {
     "data": {
      "image/png": "[encoded data removed]",
      "text/plain": [
       "<Figure size 432x288 with 1 Axes>"
      ]
     },
     "metadata": {
      "needs_background": "light"
     },
     "output_type": "display_data"
    }
   ],
   "source": [
    "y = []\n",
    "for i in range(20):\n",
    "    y.append(QRandom1(0,100,3))\n",
    "    \n",
    "plt.plot(y)"
   ]
  },
  {
   "cell_type": "code",
   "execution_count": 76,
   "id": "a3c714b6",
   "metadata": {},
   "outputs": [
    {
     "data": {
      "text/plain": [
       "[76.92307692307693,\n",
       " 61.53846153846154,\n",
       " 53.84615384615385,\n",
       " 76.92307692307693,\n",
       " 30.76923076923077,\n",
       " 84.61538461538461,\n",
       " 46.15384615384615,\n",
       " 53.84615384615385,\n",
       " 69.23076923076923,\n",
       " 84.61538461538461]"
      ]
     },
     "execution_count": 76,
     "metadata": {},
     "output_type": "execute_result"
    }
   ],
   "source": [
    "x"
   ]
  },
  {
   "cell_type": "code",
   "execution_count": 81,
   "id": "196f0534",
   "metadata": {},
   "outputs": [
    {
     "name": "stdout",
     "output_type": "stream",
     "text": [
      "Enter the number of random numbers required20\n",
      "Enter lower limit0\n",
      "Enter higher limit100\n"
     ]
    }
   ],
   "source": [
    "m=0\n",
    "number = int(input('Enter the number of random numbers required'))\n",
    "low = int(input('Enter lower limit'))\n",
    "high = int(input('Enter higher limit'))\n",
    "temp = high+1\n",
    "theta = 0\n",
    "depth=3\n",
    "x=[]\n",
    "n=1\n",
    "length = 0\n",
    "while length!=number:\n",
    "    y = QRandom(low,high,theta,depth,2)\n",
    "    while (y in x):\n",
    "        i=i+1\n",
    "        theta = theta + pi/16\n",
    "        y= QRandom(low,high,theta,depth,2)\n",
    "        if(i==(16*n)):\n",
    "            depth = depth+1\n",
    "            n=n+1\n",
    "    x.append(y)\n",
    "    length=len(x) "
   ]
  },
  {
   "cell_type": "code",
   "execution_count": 83,
   "id": "36a40955",
   "metadata": {},
   "outputs": [
    {
     "data": {
      "text/plain": [
       "[<matplotlib.lines.Line2D at 0x7f224fd58f40>]"
      ]
     },
     "execution_count": 83,
     "metadata": {},
     "output_type": "execute_result"
    },
    {
     "data": {
      "image/png": "[encoded data removed]",
      "text/plain": [
       "<Figure size 432x288 with 1 Axes>"
      ]
     },
     "metadata": {
      "needs_background": "light"
     },
     "output_type": "display_data"
    }
   ],
   "source": [
    "plt.plot(x)"
   ]
  },
  {
   "cell_type": "code",
   "execution_count": 86,
   "id": "392f5bab",
   "metadata": {},
   "outputs": [
    {
     "data": {
      "text/plain": [
       "[<matplotlib.lines.Line2D at 0x7f22514094c0>]"
      ]
     },
     "execution_count": 86,
     "metadata": {},
     "output_type": "execute_result"
    },
    {
     "data": {
      "image/png": "[encoded data removed]",
      "text/plain": [
       "<Figure size 432x288 with 1 Axes>"
      ]
     },
     "metadata": {
      "needs_background": "light"
     },
     "output_type": "display_data"
    }
   ],
   "source": [
    "plt.plot(y)"
   ]
  },
  {
   "cell_type": "code",
   "execution_count": 87,
   "id": "0c445732",
   "metadata": {},
   "outputs": [
    {
     "data": {
      "text/plain": [
       "[57.14285714285714,\n",
       " 85.71428571428571,\n",
       " 42.857142857142854,\n",
       " 83.23442857142858,\n",
       " 40.572,\n",
       " 81.48685714285713,\n",
       " 8.471857142857143,\n",
       " 9.889999999999999,\n",
       " 41.343857142857146,\n",
       " 12.975428571428571,\n",
       " 15.192571428571428,\n",
       " 15.805285714285716,\n",
       " 71.42857142857143,\n",
       " 52.41957142857142,\n",
       " 10.289285714285715,\n",
       " 41.248000000000005,\n",
       " 91.20157142857143,\n",
       " 91.01857142857142,\n",
       " 76.36800000000001,\n",
       " 67.28185714285715]"
      ]
     },
     "execution_count": 87,
     "metadata": {},
     "output_type": "execute_result"
    }
   ],
   "source": [
    "x"
   ]
  },
  {
   "cell_type": "code",
   "execution_count": 88,
   "id": "aeb56fc5",
   "metadata": {},
   "outputs": [
    {
     "data": {
      "text/plain": [
       "[53.84615384615385,\n",
       " 69.23076923076923,\n",
       " 76.92307692307693,\n",
       " 61.53846153846154,\n",
       " 30.76923076923077,\n",
       " 46.15384615384615,\n",
       " 38.46153846153847,\n",
       " 69.23076923076923,\n",
       " 46.15384615384615,\n",
       " 76.92307692307693,\n",
       " 30.76923076923077,\n",
       " 38.46153846153847,\n",
       " 53.84615384615385,\n",
       " 46.15384615384615,\n",
       " 69.23076923076923,\n",
       " 61.53846153846154,\n",
       " 30.76923076923077,\n",
       " 76.92307692307693,\n",
       " 76.92307692307693,\n",
       " 69.23076923076923]"
      ]
     },
     "execution_count": 88,
     "metadata": {},
     "output_type": "execute_result"
    }
   ],
   "source": [
    "y"
   ]
  },
  {
   "cell_type": "code",
   "execution_count": null,
   "id": "49879563",
   "metadata": {},
   "outputs": [],
   "source": [
    "m=0\n",
    "number = int(input('Enter the number of random numbers required'))\n",
    "low = int(input('Enter lower limit'))\n",
    "high = int(input('Enter higher limit'))\n",
    "temp = high+1\n",
    "theta = 0\n",
    "depth=3\n",
    "x=[]\n",
    "n=1\n",
    "length = 0\n",
    "while length!=number:\n",
    "    y = QRandom(low,high,theta,depth,2)\n",
    "    while (y in x):\n",
    "        i=i+1\n",
    "        theta = theta + pi/16\n",
    "        y= QRandom(low,high,theta,depth,2)\n",
    "        if(i==(16*n)):\n",
    "            depth = depth+1\n",
    "            n=n+1\n",
    "    x.append(y)\n",
    "    length=len(x) "
   ]
  }
 ],
 "metadata": {
  "kernelspec": {
   "display_name": "Python 3 (ipykernel)",
   "language": "python",
   "name": "python3"
  },
  "language_info": {
   "codemirror_mode": {
    "name": "ipython",
    "version": 3
   },
   "file_extension": ".py",
   "mimetype": "text/x-python",
   "name": "python",
   "nbconvert_exporter": "python",
   "pygments_lexer": "ipython3",
   "version": "3.8.8"
  }
 },
 "nbformat": 4,
 "nbformat_minor": 5
}
