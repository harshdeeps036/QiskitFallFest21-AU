{
 "cells": [
  {
   "cell_type": "markdown",
   "metadata": {},
   "source": [
    "# The Quantum Random Number Generator"
   ]
  },
  {
   "cell_type": "code",
   "execution_count": 5,
   "id": "c41bed00",
   "metadata": {},
   "outputs": [],
   "source": [
    "# Importing standard Qiskit libraries and configuring account\n",
    "from qiskit import QuantumRegister, ClassicalRegister, execute\n",
    "from qiskit import QuantumCircuit, execute, Aer\n",
    "from qiskit.tools.jupyter import *\n",
    "import matplotlib.pyplot as plt\n",
    "import numpy as np\n",
    "from math import pi\n",
    "%matplotlib inline"
   ]
  },
  {
   "cell_type": "markdown",
   "metadata": {},
   "source": [
    "# The Mapping Function\n",
    "We define a function which takes the output of our quantum circuit and maps it into a specified range, as provided by the user."
   ]
  },
  {
   "cell_type": "code",
   "execution_count": 2,
   "id": "6c80e102",
   "metadata": {},
   "outputs": [],
   "source": [
    "def real_map(value, leftMin, leftMax, rightMin, rightMax):\n",
    "    # Maps one range to another\n",
    "    # Figure out how 'wide' each range is\n",
    "    leftSpan = leftMax - leftMin\n",
    "    rightSpan = rightMax - rightMin\n",
    "\n",
    "    # Convert the left range into a 0-1 range (float)\n",
    "    valueScaled = float(value - leftMin) / float(leftSpan)\n",
    "\n",
    "    # Convert the 0-1 range into a value in the right range.\n",
    "    return rightMin + (valueScaled * rightSpan)"
   ]
  },
  {
   "cell_type": "markdown",
   "metadata": {},
   "source": [
    "# The basic Quantum Random Number generator\n",
    "Now we define a very basic quantum random number generator, and the process of random number generation can be explained as:  \n",
    "\n",
    "* Create a quantum circuit with (at least three) a few qubits, add the classical registers.  \n",
    "\n",
    "\n",
    "* Add a hadamard gate on each of the qubits, making the final state an equal superposition of all the available states.  \n",
    "\n",
    "\n",
    "* Do a measurement with 'statevector_simulator' and find the final state of the circuit.  \n",
    "\n",
    "\n",
    "* We can have $2^n$ unique states and the final result will be a random number out of those states."
   ]
  },
  {
   "cell_type": "code",
   "execution_count": 3,
   "id": "698db012",
   "metadata": {},
   "outputs": [],
   "source": [
    "# Quantum Random Number generator\n",
    "def QRandom(a, b, qubits):\n",
    "    q = QuantumRegister(qubits, 'q')\n",
    "    circ = QuantumCircuit(q)\n",
    "    c0 = ClassicalRegister(1, 'c0')\n",
    "    circ.add_register(c0)\n",
    "\n",
    "    for i in range(qubits):\n",
    "        circ.h(q[i])\n",
    "\n",
    "    for i in range(qubits):\n",
    "        circ.measure(q[i], c0)\n",
    "\n",
    "    backend = Aer.get_backend('statevector_simulator')\n",
    "    job = execute(circ, backend)\n",
    "    result = job.result()\n",
    "    output = result.get_statevector(circ, decimals=5)\n",
    "\n",
    "    n1 = 0\n",
    "    n2 = 0\n",
    "    n3 = 0\n",
    "    for i in range( output.size ):\n",
    "        if abs(output[i]) != 0:\n",
    "            n1 = i\n",
    "            n2 = np.real(output[i])\n",
    "            n3 = np.imag(output[i])\n",
    "    \n",
    "    y = real_map(n1+n2+n3, -qubits, len(output)-1+qubits, a, b) \n",
    "    return y"
   ]
  },
  {
   "cell_type": "markdown",
   "metadata": {},
   "source": [
    "# Generating random numbers with our Quantum RNG"
   ]
  },
  {
   "cell_type": "code",
   "execution_count": 21,
   "metadata": {},
   "outputs": [
    {
     "data": {
      "text/plain": [
       "[<matplotlib.lines.Line2D at 0x7f6031151490>]"
      ]
     },
     "execution_count": 21,
     "metadata": {},
     "output_type": "execute_result"
    },
    {
     "data": {
      "image/png": "[encoded data removed]",
      "text/plain": [
       "<Figure size 432x288 with 1 Axes>"
      ]
     },
     "metadata": {
      "needs_background": "light"
     },
     "output_type": "display_data"
    }
   ],
   "source": [
    "y = []\n",
    "for i in range(20):\n",
    "    y.append(QRandom(0,100,3))\n",
    "    \n",
    "plt.plot(y)"
   ]
  },
  {
   "cell_type": "markdown",
   "metadata": {},
   "source": [
    "# The problems with this Quantum RNG:\n",
    "While this preliminary quantum RNG does look promising, it has a lot of problems inherently:  \n",
    "\n",
    "* The total number of unique random numbers it can generate is at max $2^n$, hence if one requires a large number of unique random numbers, this RNG will fail.  \n",
    "\n",
    "* The qubit requirement will be huge even for a small number of unique random numbers.  \n",
    "\n",
    "* Patterns and repititions start appearing at certain points.   \n",
    "\n",
    "* Time and memory requirements might be an issue.\n"
   ]
  },
  {
   "cell_type": "code",
   "execution_count": 22,
   "metadata": {},
   "outputs": [
    {
     "name": "stdout",
     "output_type": "stream",
     "text": [
      "The number of unique elements in provided random distribution is:\n",
      "8\n"
     ]
    }
   ],
   "source": [
    "# Example of number of unique random numbers:\n",
    "\n",
    "# Generating 40 random numbers with our QRNG\n",
    "\n",
    "y = []\n",
    "for i in range(40):\n",
    "    y.append(QRandom(0,100,3))\n",
    "\n",
    "count = 0\n",
    "\n",
    "z=[]\n",
    "\n",
    "#Counting the number of unique elements\n",
    "\n",
    "for num in y:\n",
    "    if num not in z:\n",
    "        count = count+1\n",
    "        z.append(num)\n",
    "print('The number of unique elements in provided random distribution is:')\n",
    "print(count)"
   ]
  },
  {
   "cell_type": "markdown",
   "metadata": {},
   "source": [
    "# Our Solution: A Variatonal Circuit "
   ]
  },
  {
   "cell_type": "markdown",
   "metadata": {},
   "source": [
    "To tackle the problems with this basic quantum RNG, we propose a variational quantum circuit, which can help us generate a wider range of random numbers."
   ]
  },
  {
   "cell_type": "markdown",
   "metadata": {},
   "source": [
    "The process in this variational quantum RNG can be broken down into:  \n",
    "\n",
    "* We include a couple of rotations, one along y-axis and one along x-axis, providing us a change in configuration and a change in phase, hence allowing us to create a much better range of random numbers.  \n",
    "\n",
    "* We provide a certain depth to the circuit as well, just to make sure we can provide large variations to the circuit."
   ]
  },
  {
   "cell_type": "code",
   "execution_count": 11,
   "metadata": {},
   "outputs": [],
   "source": [
    "# Variational Quantum Random Number generator\n",
    "def VarQRandom(a, b, theta, depth, qubits):\n",
    "    \n",
    "    q = QuantumRegister(qubits, 'q')\n",
    "    circ = QuantumCircuit(q)\n",
    "    c0 = ClassicalRegister(2, 'c0')\n",
    "    circ.add_register(c0)\n",
    "    \n",
    "    for j in range(depth):\n",
    "        \n",
    "        for i in range(qubits):\n",
    "            circ.h(q[i])\n",
    "            #rotating the axis by an angle theta along y-axis\n",
    "            circ.ry(theta, q[i])\n",
    "            #rotating the axis by an angle theta along x-axis\n",
    "            circ.rx(theta, q[i])\n",
    "\n",
    "    for i in range(qubits):\n",
    "        circ.measure(q[i], c0)\n",
    "\n",
    "    backend = Aer.get_backend('statevector_simulator')\n",
    "    job = execute(circ, backend)\n",
    "    result = job.result()\n",
    "    output = result.get_statevector(circ, decimals=5)\n",
    "\n",
    "    n1 = 0\n",
    "    n2 = 0\n",
    "    n3 = 0\n",
    "    for i in range( output.size ):\n",
    "        if abs(output[i]) != 0:\n",
    "            n1 = i\n",
    "            n2 = np.real(output[i])\n",
    "            n3 = np.imag(output[i])\n",
    "    \n",
    "    y = real_map(n1+n2+n3, -qubits, len(output)-1+qubits, a, b)\n",
    "    return y"
   ]
  },
  {
   "cell_type": "markdown",
   "metadata": {},
   "source": [
    "### Below is the final block of our RNG.   \n",
    "\n",
    "* We start by taking the number and range of random numbers required from the user.   \n",
    "\n",
    "* By default, we start with depth=1.  \n",
    "\n",
    "* We make sure that we have the user-specified unique random numbers in our list.  \n",
    "\n",
    "* We provide rotations, step-by-step, and check for the non-repeating terms.  \n",
    "\n",
    "* After each cycle of rotations, the depth is increased further."
   ]
  },
  {
   "cell_type": "code",
   "execution_count": 31,
   "metadata": {},
   "outputs": [],
   "source": [
    "#initialization\n",
    "m=0\n",
    "length = 0\n",
    "theta = 0\n",
    "\n",
    "#taking input from the user\n",
    "number = int(input('Enter the number of random numbers required'))\n",
    "low = int(input('Enter lower limit'))\n",
    "high = int(input('Enter higher limit'))\n",
    "\n",
    "depth=1\n",
    "x=[]\n",
    "n=1\n",
    "while length!=number:\n",
    "    y = VarQRandom(low,high,theta,depth,3)\n",
    "    while (y in x):\n",
    "        i=i+1\n",
    "        theta = theta + pi/16\n",
    "        y= VarQRandom(low,high,theta,depth,3)\n",
    "        if(i==(16*n)):\n",
    "            depth = depth+1\n",
    "            n=n+1\n",
    "    x.append(y)\n",
    "    length=len(x) "
   ]
  },
  {
   "cell_type": "markdown",
   "metadata": {},
   "source": [
    "### New distribution"
   ]
  },
  {
   "cell_type": "code",
   "execution_count": 33,
   "metadata": {},
   "outputs": [
    {
     "data": {
      "text/plain": [
       "[<matplotlib.lines.Line2D at 0x7f603113bf10>]"
      ]
     },
     "execution_count": 33,
     "metadata": {},
     "output_type": "execute_result"
    },
    {
     "data": {
      "image/png": "[encoded data removed]",
      "text/plain": [
       "<Figure size 432x288 with 1 Axes>"
      ]
     },
     "metadata": {
      "needs_background": "light"
     },
     "output_type": "display_data"
    }
   ],
   "source": [
    "plt.plot(x)"
   ]
  },
  {
   "cell_type": "markdown",
   "metadata": {},
   "source": [
    "### Number of unique elements"
   ]
  },
  {
   "cell_type": "code",
   "execution_count": 34,
   "metadata": {},
   "outputs": [
    {
     "name": "stdout",
     "output_type": "stream",
     "text": [
      "The number of unique elements in provided random distribution is:\n",
      "40\n"
     ]
    }
   ],
   "source": [
    "count = 0\n",
    "\n",
    "z=[]\n",
    "\n",
    "#Counting the number of unique elements\n",
    "\n",
    "for num in x:\n",
    "    if num not in z:\n",
    "        count = count+1\n",
    "        z.append(num)\n",
    "print('The number of unique elements in provided random distribution is:')\n",
    "print(count)"
   ]
  },
  {
   "cell_type": "markdown",
   "metadata": {},
   "source": [
    "# The qubits requirement  \n",
    "\n",
    "Before this, we have run both the RNGs with three qubits each, and now we want to check how the two RNGs perform with a couple of qubits, because ultimately, we want to reduce the qubits requirement as much as we can."
   ]
  },
  {
   "cell_type": "markdown",
   "metadata": {},
   "source": [
    "# Quantum RNG"
   ]
  },
  {
   "cell_type": "code",
   "execution_count": 6,
   "metadata": {},
   "outputs": [
    {
     "data": {
      "text/plain": [
       "[<matplotlib.lines.Line2D at 0x7f11c00b8a90>]"
      ]
     },
     "execution_count": 6,
     "metadata": {},
     "output_type": "execute_result"
    },
    {
     "data": {
      "image/png": "[encoded data removed]",
      "text/plain": [
       "<Figure size 432x288 with 1 Axes>"
      ]
     },
     "metadata": {
      "needs_background": "light"
     },
     "output_type": "display_data"
    }
   ],
   "source": [
    "y2 = []\n",
    "for i in range(20):\n",
    "    y2.append(QRandom(0,100,2))\n",
    "    \n",
    "plt.plot(y2)"
   ]
  },
  {
   "cell_type": "code",
   "execution_count": 9,
   "metadata": {},
   "outputs": [
    {
     "name": "stdout",
     "output_type": "stream",
     "text": [
      "The number of unique elements in provided random distribution is:\n",
      "4\n"
     ]
    }
   ],
   "source": [
    "z2=[]\n",
    "count = 0\n",
    "#Counting the number of unique elements\n",
    "\n",
    "for num in y2:\n",
    "    if num not in z2:\n",
    "        count = count+1\n",
    "        z2.append(num)\n",
    "print('The number of unique elements in provided random distribution is:')\n",
    "print(count)"
   ]
  },
  {
   "cell_type": "markdown",
   "metadata": {},
   "source": [
    "As expected, the basic quantum RNG has massive limitations, generating only four unique random numbers with two qubits, when asked for a 20 random number distribution."
   ]
  },
  {
   "cell_type": "markdown",
   "metadata": {},
   "source": [
    "# The variational Quantum RNG"
   ]
  },
  {
   "cell_type": "code",
   "execution_count": 13,
   "metadata": {},
   "outputs": [],
   "source": [
    "#initialization\n",
    "m=0\n",
    "length = 0\n",
    "theta = 0\n",
    "\n",
    "#taking input from the user\n",
    "number = int(input('Enter the number of random numbers required'))\n",
    "low = int(input('Enter lower limit'))\n",
    "high = int(input('Enter higher limit'))\n",
    "\n",
    "depth=1\n",
    "x2=[]\n",
    "n=1\n",
    "while length!=number:\n",
    "    y = VarQRandom(low,high,theta,depth,3)\n",
    "    while (y in x2):\n",
    "        i=i+1\n",
    "        theta = theta + pi/16\n",
    "        y= VarQRandom(low,high,theta,depth,3)\n",
    "        if(i==(16*n)):\n",
    "            depth = depth+1\n",
    "            n=n+1\n",
    "    x2.append(y)\n",
    "    length=len(x2) "
   ]
  },
  {
   "cell_type": "code",
   "execution_count": 15,
   "metadata": {},
   "outputs": [
    {
     "data": {
      "text/plain": [
       "[<matplotlib.lines.Line2D at 0x7f11bacfb760>]"
      ]
     },
     "execution_count": 15,
     "metadata": {},
     "output_type": "execute_result"
    },
    {
     "data": {
      "image/png": "[encoded data removed]",
      "text/plain": [
       "<Figure size 432x288 with 1 Axes>"
      ]
     },
     "metadata": {
      "needs_background": "light"
     },
     "output_type": "display_data"
    }
   ],
   "source": [
    "plt.plot(x2)"
   ]
  },
  {
   "cell_type": "code",
   "execution_count": 16,
   "metadata": {},
   "outputs": [
    {
     "name": "stdout",
     "output_type": "stream",
     "text": [
      "The number of unique elements in provided random distribution is:\n",
      "20\n"
     ]
    }
   ],
   "source": [
    "z2=[]\n",
    "count = 0\n",
    "#Counting the number of unique elements\n",
    "\n",
    "for num in x2:\n",
    "    if num not in z2:\n",
    "        count = count+1\n",
    "        z2.append(num)\n",
    "print('The number of unique elements in provided random distribution is:')\n",
    "print(count)"
   ]
  },
  {
   "cell_type": "markdown",
   "metadata": {},
   "source": [
    "# Time Requirements"
   ]
  },
  {
   "cell_type": "code",
   "execution_count": null,
   "metadata": {},
   "outputs": [],
   "source": [
    "y3 = []\n",
    "for i in range(50):\n",
    "    y3.append(QRandom(0,100,2))\n",
    "    \n",
    "plt.plot(y3)"
   ]
  },
  {
   "cell_type": "code",
   "execution_count": null,
   "metadata": {},
   "outputs": [],
   "source": [
    "#initialization\n",
    "m=0\n",
    "length = 0\n",
    "theta = 0\n",
    "\n",
    "#taking input from the user\n",
    "number = int(input('Enter the number of random numbers required'))\n",
    "low = int(input('Enter lower limit'))\n",
    "high = int(input('Enter higher limit'))\n",
    "\n",
    "depth=1\n",
    "x2=[]\n",
    "n=1\n",
    "while length!=number:\n",
    "    y = VarQRandom(low,high,theta,depth,3)\n",
    "    while (y in x2):\n",
    "        i=i+1\n",
    "        theta = theta + pi/16\n",
    "        y= VarQRandom(low,high,theta,depth,3)\n",
    "        if(i==(16*n)):\n",
    "            depth = depth+1\n",
    "            n=n+1\n",
    "    x2.append(y)\n",
    "    length=len(x2) "
   ]
  },
  {
   "cell_type": "code",
   "execution_count": null,
   "metadata": {},
   "outputs": [],
   "source": [
    "#initialization\n",
    "m=0\n",
    "length = 0\n",
    "theta = 0\n",
    "\n",
    "#taking input from the user\n",
    "number = int(input('Enter the number of random numbers required'))\n",
    "low = int(input('Enter lower limit'))\n",
    "high = int(input('Enter higher limit'))\n",
    "\n",
    "depth=1\n",
    "x4=[]\n",
    "n=1\n",
    "while length!=number:\n",
    "    y = VarQRandom(low,high,theta,depth,2)\n",
    "    while (y in x2):\n",
    "        i=i+1\n",
    "        theta = theta + pi/16\n",
    "        y= VarQRandom(low,high,theta,depth,2)\n",
    "        if(i==(16*n)):\n",
    "            depth = depth+1\n",
    "            n=n+1\n",
    "    x4.append(y)\n",
    "    length=len(x4) "
   ]
  },
  {
   "cell_type": "markdown",
   "metadata": {},
   "source": [
    "And there we can see, the variational quantum RNG has generated 20 unique random numbers with a two-qubit circuit, hence reducing the memory requirements."
   ]
  }
 ],
 "metadata": {
  "interpreter": {
   "hash": "916dbcbb3f70747c44a77c7bcd40155683ae19c65e1c03b4aa3499c5328201f1"
  },
  "kernelspec": {
   "display_name": "Python 3.8.10 64-bit",
   "name": "python3"
  },
  "language_info": {
   "codemirror_mode": {
    "name": "ipython",
    "version": 3
   },
   "file_extension": ".py",
   "mimetype": "text/x-python",
   "name": "python",
   "nbconvert_exporter": "python",
   "pygments_lexer": "ipython3",
   "version": "3.8.10"
  }
 },
 "nbformat": 4,
 "nbformat_minor": 5
}
