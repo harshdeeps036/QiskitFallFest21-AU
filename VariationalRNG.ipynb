{
 "cells": [
  {
   "cell_type": "markdown",
   "metadata": {},
   "source": [
    "# The Quantum Random Number Generator"
   ]
  },
  {
   "cell_type": "code",
   "execution_count": 1,
   "id": "c41bed00",
   "metadata": {},
   "outputs": [],
   "source": [
    "# Importing standard Qiskit libraries and configuring account\n",
    "from qiskit import QuantumRegister, ClassicalRegister, execute\n",
    "from qiskit import QuantumCircuit, execute, Aer\n",
    "from qiskit.tools.jupyter import *\n",
    "import matplotlib.pyplot as plt\n",
    "import numpy as np\n",
    "from math import pi\n",
    "%matplotlib inline"
   ]
  },
  {
   "cell_type": "markdown",
   "metadata": {},
   "source": [
    "# The Mapping Function\n",
    "We define a function which takes the output of our quantum circuit and maps it into a specified range, as provided by the user."
   ]
  },
  {
   "cell_type": "code",
   "execution_count": 2,
   "id": "6c80e102",
   "metadata": {},
   "outputs": [],
   "source": [
    "def real_map(value, leftMin, leftMax, rightMin, rightMax):\n",
    "    # Maps one range to another\n",
    "    # Figure out how 'wide' each range is\n",
    "    leftSpan = leftMax - leftMin\n",
    "    rightSpan = rightMax - rightMin\n",
    "\n",
    "    # Convert the left range into a 0-1 range (float)\n",
    "    valueScaled = float(value - leftMin) / float(leftSpan)\n",
    "\n",
    "    # Convert the 0-1 range into a value in the right range.\n",
    "    return rightMin + (valueScaled * rightSpan)"
   ]
  },
  {
   "cell_type": "markdown",
   "metadata": {},
   "source": [
    "# The basic Quantum Random Number generator\n",
    "Now we define a very basic quantum random number generator, and the process of random number generation can be explained as:  \n",
    "\n",
    "* Create a quantum circuit with (at least three) a few qubits, add the classical registers.  \n",
    "\n",
    "\n",
    "* Add a hadamard gate on each of the qubits, making the final state an equal superposition of all the available states.  \n",
    "\n",
    "\n",
    "* Do a measurement with 'statevector_simulator' and find the final state of the circuit.  \n",
    "\n",
    "\n",
    "* We can have $2^n$ unique states and the final result will be a random number out of those states."
   ]
  },
  {
   "cell_type": "code",
   "execution_count": 8,
   "id": "698db012",
   "metadata": {},
   "outputs": [],
   "source": [
    "# Quantum Random Number generator\n",
    "def QRandom(a, b, qubits):\n",
    "    q = QuantumRegister(qubits, 'q')\n",
    "    circ = QuantumCircuit(q)\n",
    "    c0 = ClassicalRegister(2, 'c0')\n",
    "    circ.add_register(c0)\n",
    "\n",
    "    for i in range(qubits):\n",
    "        circ.h(q[i])\n",
    "\n",
    "    for i in range(qubits):\n",
    "        circ.measure(q[i], c0)\n",
    "\n",
    "    backend = Aer.get_backend('statevector_simulator')\n",
    "    job = execute(circ, backend)\n",
    "    result = job.result()\n",
    "    output = result.get_statevector(circ, decimals=5)\n",
    "\n",
    "    n1 = 0\n",
    "    n2 = 0\n",
    "    n3 = 0\n",
    "    for i in range( output.size ):\n",
    "        if abs(output[i]) != 0:\n",
    "            n1 = i\n",
    "            n2 = np.real(output[i])\n",
    "            n3 = np.imag(output[i])\n",
    "    \n",
    "    y = real_map(n1+n2+n3, -qubits, len(output)-1+qubits, a, b) \n",
    "    return y"
   ]
  },
  {
   "cell_type": "markdown",
   "metadata": {},
   "source": [
    "# Generating random numbers with our Quantum RNG"
   ]
  },
  {
   "cell_type": "code",
   "execution_count": 11,
   "metadata": {},
   "outputs": [
    {
     "data": {
      "text/plain": [
       "[<matplotlib.lines.Line2D at 0x7f603137abb0>]"
      ]
     },
     "execution_count": 11,
     "metadata": {},
     "output_type": "execute_result"
    },
    {
     "data": {
      "image/png": "[encoded data removed]",
      "text/plain": [
       "<Figure size 432x288 with 1 Axes>"
      ]
     },
     "metadata": {
      "needs_background": "light"
     },
     "output_type": "display_data"
    }
   ],
   "source": [
    "y = []\n",
    "for i in range(20):\n",
    "    y.append(QRandom(0,100,3))\n",
    "    \n",
    "plt.plot(y)"
   ]
  },
  {
   "cell_type": "code",
   "execution_count": null,
   "metadata": {},
   "outputs": [],
   "source": []
  }
 ],
 "metadata": {
  "interpreter": {
   "hash": "916dbcbb3f70747c44a77c7bcd40155683ae19c65e1c03b4aa3499c5328201f1"
  },
  "kernelspec": {
   "display_name": "Python 3.8.10 64-bit",
   "name": "python3"
  },
  "language_info": {
   "codemirror_mode": {
    "name": "ipython",
    "version": 3
   },
   "file_extension": ".py",
   "mimetype": "text/x-python",
   "name": "python",
   "nbconvert_exporter": "python",
   "pygments_lexer": "ipython3",
   "version": "3.8.10"
  }
 },
 "nbformat": 4,
 "nbformat_minor": 5
}
